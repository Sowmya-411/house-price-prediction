{
 "cells": [
  {
   "cell_type": "code",
   "execution_count": 67,
   "metadata": {},
   "outputs": [],
   "source": [
    "import warnings\n",
    "warnings.filterwarnings(\"ignore\")"
   ]
  },
  {
   "cell_type": "code",
   "execution_count": 68,
   "metadata": {},
   "outputs": [
    {
     "name": "stdout",
     "output_type": "stream",
     "text": [
      "Index(['Unnamed: 0', 'address', 'info', 'z_address', 'bathrooms', 'bedrooms',\n",
      "       'finishedsqft', 'lastsolddate', 'lastsoldprice', 'latitude',\n",
      "       'longitude', 'neighborhood', 'totalrooms', 'usecode', 'yearbuilt',\n",
      "       'zestimate', 'zindexvalue', 'zipcode', 'zpid'],\n",
      "      dtype='object')\n",
      "(11330, 19)\n",
      "Unnamed: 0         int64\n",
      "address           object\n",
      "info              object\n",
      "z_address         object\n",
      "bathrooms        float64\n",
      "bedrooms         float64\n",
      "finishedsqft     float64\n",
      "lastsolddate      object\n",
      "lastsoldprice    float64\n",
      "latitude         float64\n",
      "longitude        float64\n",
      "neighborhood      object\n",
      "totalrooms       float64\n",
      "usecode           object\n",
      "yearbuilt        float64\n",
      "zestimate        float64\n",
      "zindexvalue       object\n",
      "zipcode          float64\n",
      "zpid             float64\n",
      "dtype: object\n"
     ]
    }
   ],
   "source": [
    "import pandas as pd\n",
    "dataset = pd.read_csv('final_data.csv')\n",
    "print(dataset.columns)\n",
    "print(dataset.shape)\n",
    "#print(dataset.head(10))\n",
    "#print(dataset.info())\n",
    "#dataset['lastsolddate']=pd.to_datetime(dataset['lastsolddate'],format='%b%d%Y')\n",
    "print(dataset.dtypes)"
   ]
  },
  {
   "cell_type": "code",
   "execution_count": 69,
   "metadata": {},
   "outputs": [],
   "source": [
    "dataset=dataset.drop(['Unnamed: 0','z_address','info','zestimate','zipcode','zpid'],axis=1)"
   ]
  },
  {
   "cell_type": "code",
   "execution_count": 70,
   "metadata": {},
   "outputs": [
    {
     "name": "stdout",
     "output_type": "stream",
     "text": [
      "<class 'pandas.core.frame.DataFrame'>\n",
      "RangeIndex: 11330 entries, 0 to 11329\n",
      "Data columns (total 13 columns):\n",
      " #   Column         Non-Null Count  Dtype  \n",
      "---  ------         --------------  -----  \n",
      " 0   address        11330 non-null  object \n",
      " 1   bathrooms      11330 non-null  float64\n",
      " 2   bedrooms       11330 non-null  float64\n",
      " 3   finishedsqft   11330 non-null  float64\n",
      " 4   lastsolddate   11330 non-null  object \n",
      " 5   lastsoldprice  11330 non-null  float64\n",
      " 6   latitude       11330 non-null  float64\n",
      " 7   longitude      11330 non-null  float64\n",
      " 8   neighborhood   11330 non-null  object \n",
      " 9   totalrooms     11330 non-null  float64\n",
      " 10  usecode        11330 non-null  object \n",
      " 11  yearbuilt      11330 non-null  float64\n",
      " 12  zindexvalue    11330 non-null  object \n",
      "dtypes: float64(8), object(5)\n",
      "memory usage: 1.1+ MB\n",
      "None\n"
     ]
    }
   ],
   "source": [
    "print(dataset.info())"
   ]
  },
  {
   "cell_type": "code",
   "execution_count": 71,
   "metadata": {},
   "outputs": [
    {
     "name": "stdout",
     "output_type": "stream",
     "text": [
      "0      975,700\n",
      "1      975,700\n",
      "2    1,277,600\n",
      "3    1,277,600\n",
      "4    1,248,000\n",
      "Name: zindexvalue, dtype: object\n"
     ]
    }
   ],
   "source": [
    "print(dataset['zindexvalue'].head())"
   ]
  },
  {
   "cell_type": "code",
   "execution_count": 72,
   "metadata": {},
   "outputs": [
    {
     "name": "stdout",
     "output_type": "stream",
     "text": [
      "0         975700\n",
      "1         975700\n",
      "2        1277600\n",
      "3        1277600\n",
      "4        1248000\n",
      "          ...   \n",
      "11325    1628900\n",
      "11326     957300\n",
      "11327     804400\n",
      "11328    1030300\n",
      "11329    1214400\n",
      "Name: zindexvalue, Length: 11330, dtype: int64\n",
      "address           object\n",
      "bathrooms        float64\n",
      "bedrooms         float64\n",
      "finishedsqft     float64\n",
      "lastsolddate      object\n",
      "lastsoldprice    float64\n",
      "latitude         float64\n",
      "longitude        float64\n",
      "neighborhood      object\n",
      "totalrooms       float64\n",
      "usecode           object\n",
      "yearbuilt        float64\n",
      "zindexvalue        int64\n",
      "dtype: object\n",
      "01/02/2013 12/31/2015\n"
     ]
    }
   ],
   "source": [
    "#dataset['zindexvalue']=pd.to_numeric(dataset['zindexvalue'],errors='ignore',downcast='integer')\n",
    "#dataset['zindexvalue']=dataset['zindexvalue'].astype(str)\n",
    "dataset['zindexvalue']=dataset['zindexvalue'].str.replace(',','')\n",
    "dataset['zindexvalue']=pd.to_numeric(dataset['zindexvalue'])\n",
    "\n",
    "print(dataset['zindexvalue'])\n",
    "print(dataset.dtypes)\n",
    "print(dataset['lastsolddate'].min(),dataset['lastsolddate'].max())"
   ]
  },
  {
   "cell_type": "code",
   "execution_count": 73,
   "metadata": {},
   "outputs": [
    {
     "data": {
      "text/html": [
       "<div>\n",
       "<style scoped>\n",
       "    .dataframe tbody tr th:only-of-type {\n",
       "        vertical-align: middle;\n",
       "    }\n",
       "\n",
       "    .dataframe tbody tr th {\n",
       "        vertical-align: top;\n",
       "    }\n",
       "\n",
       "    .dataframe thead th {\n",
       "        text-align: right;\n",
       "    }\n",
       "</style>\n",
       "<table border=\"1\" class=\"dataframe\">\n",
       "  <thead>\n",
       "    <tr style=\"text-align: right;\">\n",
       "      <th></th>\n",
       "      <th>bathrooms</th>\n",
       "      <th>bedrooms</th>\n",
       "      <th>finishedsqft</th>\n",
       "      <th>lastsoldprice</th>\n",
       "      <th>latitude</th>\n",
       "      <th>longitude</th>\n",
       "      <th>totalrooms</th>\n",
       "      <th>yearbuilt</th>\n",
       "      <th>zindexvalue</th>\n",
       "    </tr>\n",
       "  </thead>\n",
       "  <tbody>\n",
       "    <tr>\n",
       "      <th>count</th>\n",
       "      <td>11330.000000</td>\n",
       "      <td>11330.000000</td>\n",
       "      <td>11330.000000</td>\n",
       "      <td>1.133000e+04</td>\n",
       "      <td>11330.000000</td>\n",
       "      <td>11330.000000</td>\n",
       "      <td>11330.000000</td>\n",
       "      <td>11330.000000</td>\n",
       "      <td>1.133000e+04</td>\n",
       "    </tr>\n",
       "    <tr>\n",
       "      <th>mean</th>\n",
       "      <td>1.980229</td>\n",
       "      <td>2.614475</td>\n",
       "      <td>1585.420918</td>\n",
       "      <td>1.263928e+06</td>\n",
       "      <td>37.759711</td>\n",
       "      <td>-122.436518</td>\n",
       "      <td>6.111562</td>\n",
       "      <td>1948.498147</td>\n",
       "      <td>1.320205e+06</td>\n",
       "    </tr>\n",
       "    <tr>\n",
       "      <th>std</th>\n",
       "      <td>1.047358</td>\n",
       "      <td>1.299457</td>\n",
       "      <td>921.978245</td>\n",
       "      <td>1.042079e+06</td>\n",
       "      <td>0.025578</td>\n",
       "      <td>0.030743</td>\n",
       "      <td>12.125819</td>\n",
       "      <td>37.911196</td>\n",
       "      <td>5.848170e+05</td>\n",
       "    </tr>\n",
       "    <tr>\n",
       "      <th>min</th>\n",
       "      <td>0.500000</td>\n",
       "      <td>0.000000</td>\n",
       "      <td>1.000000</td>\n",
       "      <td>5.350000e+02</td>\n",
       "      <td>37.708170</td>\n",
       "      <td>-122.510726</td>\n",
       "      <td>1.000000</td>\n",
       "      <td>1860.000000</td>\n",
       "      <td>6.881000e+05</td>\n",
       "    </tr>\n",
       "    <tr>\n",
       "      <th>25%</th>\n",
       "      <td>1.000000</td>\n",
       "      <td>2.000000</td>\n",
       "      <td>1019.000000</td>\n",
       "      <td>7.292500e+05</td>\n",
       "      <td>37.739286</td>\n",
       "      <td>-122.455157</td>\n",
       "      <td>4.000000</td>\n",
       "      <td>1916.000000</td>\n",
       "      <td>9.829000e+05</td>\n",
       "    </tr>\n",
       "    <tr>\n",
       "      <th>50%</th>\n",
       "      <td>2.000000</td>\n",
       "      <td>2.000000</td>\n",
       "      <td>1362.000000</td>\n",
       "      <td>9.900000e+05</td>\n",
       "      <td>37.760513</td>\n",
       "      <td>-122.432510</td>\n",
       "      <td>5.000000</td>\n",
       "      <td>1940.000000</td>\n",
       "      <td>1.211900e+06</td>\n",
       "    </tr>\n",
       "    <tr>\n",
       "      <th>75%</th>\n",
       "      <td>2.000000</td>\n",
       "      <td>3.000000</td>\n",
       "      <td>1876.000000</td>\n",
       "      <td>1.450000e+06</td>\n",
       "      <td>37.781386</td>\n",
       "      <td>-122.413359</td>\n",
       "      <td>7.000000</td>\n",
       "      <td>1986.000000</td>\n",
       "      <td>1.480400e+06</td>\n",
       "    </tr>\n",
       "    <tr>\n",
       "      <th>max</th>\n",
       "      <td>14.000000</td>\n",
       "      <td>20.000000</td>\n",
       "      <td>27275.000000</td>\n",
       "      <td>2.388900e+07</td>\n",
       "      <td>37.806083</td>\n",
       "      <td>-122.381201</td>\n",
       "      <td>1264.000000</td>\n",
       "      <td>2016.000000</td>\n",
       "      <td>5.333500e+06</td>\n",
       "    </tr>\n",
       "  </tbody>\n",
       "</table>\n",
       "</div>"
      ],
      "text/plain": [
       "          bathrooms      bedrooms  finishedsqft  lastsoldprice      latitude  \\\n",
       "count  11330.000000  11330.000000  11330.000000   1.133000e+04  11330.000000   \n",
       "mean       1.980229      2.614475   1585.420918   1.263928e+06     37.759711   \n",
       "std        1.047358      1.299457    921.978245   1.042079e+06      0.025578   \n",
       "min        0.500000      0.000000      1.000000   5.350000e+02     37.708170   \n",
       "25%        1.000000      2.000000   1019.000000   7.292500e+05     37.739286   \n",
       "50%        2.000000      2.000000   1362.000000   9.900000e+05     37.760513   \n",
       "75%        2.000000      3.000000   1876.000000   1.450000e+06     37.781386   \n",
       "max       14.000000     20.000000  27275.000000   2.388900e+07     37.806083   \n",
       "\n",
       "          longitude    totalrooms     yearbuilt   zindexvalue  \n",
       "count  11330.000000  11330.000000  11330.000000  1.133000e+04  \n",
       "mean    -122.436518      6.111562   1948.498147  1.320205e+06  \n",
       "std        0.030743     12.125819     37.911196  5.848170e+05  \n",
       "min     -122.510726      1.000000   1860.000000  6.881000e+05  \n",
       "25%     -122.455157      4.000000   1916.000000  9.829000e+05  \n",
       "50%     -122.432510      5.000000   1940.000000  1.211900e+06  \n",
       "75%     -122.413359      7.000000   1986.000000  1.480400e+06  \n",
       "max     -122.381201   1264.000000   2016.000000  5.333500e+06  "
      ]
     },
     "execution_count": 73,
     "metadata": {},
     "output_type": "execute_result"
    }
   ],
   "source": [
    "dataset.describe()"
   ]
  },
  {
   "cell_type": "code",
   "execution_count": 74,
   "metadata": {},
   "outputs": [
    {
     "data": {
      "image/png": "[encoded data removed]",
      "text/plain": [
       "<Figure size 1440x1080 with 9 Axes>"
      ]
     },
     "metadata": {
      "needs_background": "light"
     },
     "output_type": "display_data"
    }
   ],
   "source": [
    "import matplotlib.pyplot as plt\n",
    "#plt.hist(dataset['bathrooms'],alpha=0.5, label='bathrooms')\n",
    "#plt.hist(dataset['bedrooms'],alpha=0.5, label='bedrooms')\n",
    "#plt.hist(dataset['finishedsqft'],alpha=0.5, label='finishedsqft')\n",
    "#plt.hist(dataset['lastsoldprice'],alpha=0.5, label='lastsoldprice')\n",
    "#plt.legend(loc='upper right')\n",
    "dataset.hist(figsize=(20,15))\n",
    "plt.grid()\n",
    "plt.show()"
   ]
  },
  {
   "cell_type": "code",
   "execution_count": 75,
   "metadata": {},
   "outputs": [
    {
     "data": {
      "image/png": "[encoded data removed]",
      "text/plain": [
       "<Figure size 432x288 with 2 Axes>"
      ]
     },
     "metadata": {
      "needs_background": "light"
     },
     "output_type": "display_data"
    }
   ],
   "source": [
    "dataset.plot(kind=\"scatter\", x=\"longitude\", y=\"latitude\", c=\"lastsoldprice\", cmap=plt.get_cmap(\"jet\"), colorbar=True,)\n",
    "plt.show()"
   ]
  },
  {
   "cell_type": "code",
   "execution_count": 76,
   "metadata": {},
   "outputs": [
    {
     "data": {
      "text/plain": [
       "lastsoldprice    1.000000\n",
       "finishedsqft     0.647208\n",
       "bathrooms        0.536880\n",
       "zindexvalue      0.460429\n",
       "bedrooms         0.395478\n",
       "latitude         0.283107\n",
       "totalrooms       0.093527\n",
       "longitude       -0.052595\n",
       "yearbuilt       -0.189055\n",
       "Name: lastsoldprice, dtype: float64"
      ]
     },
     "execution_count": 76,
     "metadata": {},
     "output_type": "execute_result"
    }
   ],
   "source": [
    "corr=dataset.corr()\n",
    "corr['lastsoldprice'].sort_values(ascending=False)"
   ]
  },
  {
   "cell_type": "code",
   "execution_count": 77,
   "metadata": {},
   "outputs": [
    {
     "data": {
      "image/png": "[encoded data removed]",
      "text/plain": [
       "<Figure size 432x288 with 1 Axes>"
      ]
     },
     "metadata": {
      "needs_background": "light"
     },
     "output_type": "display_data"
    }
   ],
   "source": [
    "dataset.plot(kind=\"scatter\", x=\"finishedsqft\", y=\"lastsoldprice\")\n",
    "plt.show()"
   ]
  },
  {
   "cell_type": "code",
   "execution_count": 78,
   "metadata": {},
   "outputs": [
    {
     "data": {
      "text/plain": [
       "yearbuilt        -0.189055\n",
       "longitude        -0.052595\n",
       "price_per_sqft    0.005008\n",
       "totalrooms        0.093527\n",
       "latitude          0.283107\n",
       "bedrooms          0.395478\n",
       "zindexvalue       0.460429\n",
       "bathrooms         0.536880\n",
       "finishedsqft      0.647208\n",
       "lastsoldprice     1.000000\n",
       "Name: lastsoldprice, dtype: float64"
      ]
     },
     "execution_count": 78,
     "metadata": {},
     "output_type": "execute_result"
    }
   ],
   "source": [
    "dataset['price_per_sqft']=dataset['lastsoldprice']/dataset['finishedsqft']\n",
    "corr=dataset.corr()\n",
    "corr['lastsoldprice'].sort_values()"
   ]
  },
  {
   "cell_type": "code",
   "execution_count": 79,
   "metadata": {},
   "outputs": [
    {
     "name": "stdout",
     "output_type": "stream",
     "text": [
      "71\n",
      "10\n",
      "['Condominium' 'SingleFamily' 'MultiFamily2To4' 'Miscellaneous' 'Duplex'\n",
      " 'Townhouse' 'Mobile' 'Apartment' 'Cooperative' 'MultiFamily5Plus']\n"
     ]
    }
   ],
   "source": [
    "neigh=dataset['neighborhood'].unique()\n",
    "print(len(neigh))\n",
    "#print(neigh)\n",
    "code=dataset['usecode'].unique()\n",
    "print(len(code))\n",
    "print(code)"
   ]
  },
  {
   "cell_type": "code",
   "execution_count": 80,
   "metadata": {},
   "outputs": [
    {
     "data": {
      "text/html": [
       "<div>\n",
       "<style scoped>\n",
       "    .dataframe tbody tr th:only-of-type {\n",
       "        vertical-align: middle;\n",
       "    }\n",
       "\n",
       "    .dataframe tbody tr th {\n",
       "        vertical-align: top;\n",
       "    }\n",
       "\n",
       "    .dataframe thead th {\n",
       "        text-align: right;\n",
       "    }\n",
       "</style>\n",
       "<table border=\"1\" class=\"dataframe\">\n",
       "  <thead>\n",
       "    <tr style=\"text-align: right;\">\n",
       "      <th></th>\n",
       "      <th>freq</th>\n",
       "      <th>price_per_sqft</th>\n",
       "    </tr>\n",
       "  </thead>\n",
       "  <tbody>\n",
       "    <tr>\n",
       "      <th>count</th>\n",
       "      <td>71.000000</td>\n",
       "      <td>71.000000</td>\n",
       "    </tr>\n",
       "    <tr>\n",
       "      <th>mean</th>\n",
       "      <td>159.577465</td>\n",
       "      <td>1664.908308</td>\n",
       "    </tr>\n",
       "    <tr>\n",
       "      <th>std</th>\n",
       "      <td>126.572696</td>\n",
       "      <td>3619.277749</td>\n",
       "    </tr>\n",
       "    <tr>\n",
       "      <th>min</th>\n",
       "      <td>3.000000</td>\n",
       "      <td>374.201197</td>\n",
       "    </tr>\n",
       "    <tr>\n",
       "      <th>25%</th>\n",
       "      <td>67.500000</td>\n",
       "      <td>613.337664</td>\n",
       "    </tr>\n",
       "    <tr>\n",
       "      <th>50%</th>\n",
       "      <td>123.000000</td>\n",
       "      <td>756.246284</td>\n",
       "    </tr>\n",
       "    <tr>\n",
       "      <th>75%</th>\n",
       "      <td>210.500000</td>\n",
       "      <td>985.156646</td>\n",
       "    </tr>\n",
       "    <tr>\n",
       "      <th>max</th>\n",
       "      <td>540.000000</td>\n",
       "      <td>26914.471572</td>\n",
       "    </tr>\n",
       "  </tbody>\n",
       "</table>\n",
       "</div>"
      ],
      "text/plain": [
       "             freq  price_per_sqft\n",
       "count   71.000000       71.000000\n",
       "mean   159.577465     1664.908308\n",
       "std    126.572696     3619.277749\n",
       "min      3.000000      374.201197\n",
       "25%     67.500000      613.337664\n",
       "50%    123.000000      756.246284\n",
       "75%    210.500000      985.156646\n",
       "max    540.000000    26914.471572"
      ]
     },
     "execution_count": 80,
     "metadata": {},
     "output_type": "execute_result"
    }
   ],
   "source": [
    "freq=dataset.groupby(['neighborhood']).count()['address']\n",
    "\n",
    "mean=dataset.groupby(['neighborhood']).mean()['price_per_sqft']\n",
    "cluster = pd.concat([freq, mean], axis=1)\n",
    "#print(cluster)\n",
    "cluster['neighborhood'] = cluster.index\n",
    "cluster.columns = ['freq', 'price_per_sqft','neighborhood']\n",
    "cluster.describe()\n"
   ]
  },
  {
   "cell_type": "code",
   "execution_count": 81,
   "metadata": {},
   "outputs": [
    {
     "data": {
      "text/plain": [
       "Index(['Bayview', 'Central Richmond', 'Central Sunset', 'Crocker Amazon',\n",
       "       'Daly City', 'Diamond Heights', 'Excelsior', 'Forest Hill',\n",
       "       'Forest Hill Extension', 'Golden Gate Heights', 'Ingleside',\n",
       "       'Ingleside Heights', 'Ingleside Terrace', 'Inner Parkside',\n",
       "       'Inner Richmond', 'Inner Sunset', 'Lakeshore', 'Little Hollywood',\n",
       "       'Merced Heights', 'Mission Terrace', 'Mount Davidson Manor',\n",
       "       'Oceanview', 'Outer Mission', 'Outer Parkside', 'Outer Richmond',\n",
       "       'Outer Sunset', 'Parkside', 'Portola', 'Silver Terrace', 'Sunnyside',\n",
       "       'Visitacion Valley', 'West Portal', 'Western Addition',\n",
       "       'Westwood Highlands', 'Westwood Park'],\n",
       "      dtype='object', name='neighborhood')"
      ]
     },
     "execution_count": 81,
     "metadata": {},
     "output_type": "execute_result"
    }
   ],
   "source": [
    "cluster1 = cluster[cluster.price_per_sqft < 756]\n",
    "cluster1.index"
   ]
  },
  {
   "cell_type": "code",
   "execution_count": 82,
   "metadata": {},
   "outputs": [
    {
     "data": {
      "text/plain": [
       "Index(['Buena Vista Park', 'Central Waterfront - Dogpatch', 'Corona Heights',\n",
       "       'Haight-Ashbury', 'Lakeside', 'Lone Mountain', 'Midtown Terrace',\n",
       "       'North Beach', 'North Waterfront', 'Parnassus - Ashbury',\n",
       "       'Presidio Heights', 'Sea Cliff', 'St. Francis Wood', 'Telegraph Hill',\n",
       "       'Twin Peaks'],\n",
       "      dtype='object', name='neighborhood')"
      ]
     },
     "execution_count": 82,
     "metadata": {},
     "output_type": "execute_result"
    }
   ],
   "source": [
    "cluster_temp = cluster[cluster.price_per_sqft >= 756]\n",
    "cluster2 = cluster_temp[cluster_temp.freq <123]\n",
    "cluster2.index"
   ]
  },
  {
   "cell_type": "code",
   "execution_count": 83,
   "metadata": {},
   "outputs": [
    {
     "data": {
      "text/plain": [
       "Index(['Bernal Heights', 'Cow Hollow', 'Downtown',\n",
       "       'Eureka Valley - Dolores Heights - Castro', 'Glen Park', 'Hayes Valley',\n",
       "       'Lake', 'Lower Pacific Heights', 'Marina', 'Miraloma Park', 'Mission',\n",
       "       'Nob Hill', 'Noe Valley', 'North Panhandle', 'Pacific Heights',\n",
       "       'Potrero Hill', 'Russian Hill', 'South Beach', 'South of Market',\n",
       "       'Van Ness - Civic Center', 'Yerba Buena'],\n",
       "      dtype='object', name='neighborhood')"
      ]
     },
     "execution_count": 83,
     "metadata": {},
     "output_type": "execute_result"
    }
   ],
   "source": [
    "cluster3 = cluster_temp[cluster_temp.freq >=123]\n",
    "cluster3.index"
   ]
  },
  {
   "cell_type": "code",
   "execution_count": 84,
   "metadata": {},
   "outputs": [],
   "source": [
    "def get_group(x):\n",
    "    if x in cluster1.index:\n",
    "        return 'low_price'\n",
    "    elif x in cluster2.index:\n",
    "        return 'high_price_low_freq'\n",
    "    else:\n",
    "        return 'high_price_high_freq'\n",
    "dataset['group'] = dataset.neighborhood.apply(get_group)"
   ]
  },
  {
   "cell_type": "code",
   "execution_count": 85,
   "metadata": {},
   "outputs": [
    {
     "name": "stdout",
     "output_type": "stream",
     "text": [
      "Index(['address', 'bathrooms', 'bedrooms', 'finishedsqft', 'lastsolddate',\n",
      "       'lastsoldprice', 'latitude', 'longitude', 'neighborhood', 'totalrooms',\n",
      "       'usecode', 'yearbuilt', 'zindexvalue', 'price_per_sqft', 'group'],\n",
      "      dtype='object')\n"
     ]
    }
   ],
   "source": [
    "print(dataset.columns)"
   ]
  },
  {
   "cell_type": "code",
   "execution_count": 86,
   "metadata": {},
   "outputs": [
    {
     "data": {
      "text/html": [
       "<div>\n",
       "<style scoped>\n",
       "    .dataframe tbody tr th:only-of-type {\n",
       "        vertical-align: middle;\n",
       "    }\n",
       "\n",
       "    .dataframe tbody tr th {\n",
       "        vertical-align: top;\n",
       "    }\n",
       "\n",
       "    .dataframe thead th {\n",
       "        text-align: right;\n",
       "    }\n",
       "</style>\n",
       "<table border=\"1\" class=\"dataframe\">\n",
       "  <thead>\n",
       "    <tr style=\"text-align: right;\">\n",
       "      <th></th>\n",
       "      <th>bathrooms</th>\n",
       "      <th>bedrooms</th>\n",
       "      <th>finishedsqft</th>\n",
       "      <th>totalrooms</th>\n",
       "      <th>usecode</th>\n",
       "      <th>yearbuilt</th>\n",
       "      <th>zindexvalue</th>\n",
       "      <th>group</th>\n",
       "      <th>lastsoldprice</th>\n",
       "    </tr>\n",
       "  </thead>\n",
       "  <tbody>\n",
       "    <tr>\n",
       "      <th>0</th>\n",
       "      <td>2.0</td>\n",
       "      <td>2.0</td>\n",
       "      <td>1043.0</td>\n",
       "      <td>4.0</td>\n",
       "      <td>Condominium</td>\n",
       "      <td>2007.0</td>\n",
       "      <td>975700</td>\n",
       "      <td>high_price_high_freq</td>\n",
       "      <td>1300000.0</td>\n",
       "    </tr>\n",
       "    <tr>\n",
       "      <th>1</th>\n",
       "      <td>1.0</td>\n",
       "      <td>1.0</td>\n",
       "      <td>903.0</td>\n",
       "      <td>3.0</td>\n",
       "      <td>Condominium</td>\n",
       "      <td>2004.0</td>\n",
       "      <td>975700</td>\n",
       "      <td>high_price_high_freq</td>\n",
       "      <td>750000.0</td>\n",
       "    </tr>\n",
       "    <tr>\n",
       "      <th>2</th>\n",
       "      <td>4.0</td>\n",
       "      <td>3.0</td>\n",
       "      <td>1425.0</td>\n",
       "      <td>6.0</td>\n",
       "      <td>Condominium</td>\n",
       "      <td>2003.0</td>\n",
       "      <td>1277600</td>\n",
       "      <td>high_price_high_freq</td>\n",
       "      <td>1495000.0</td>\n",
       "    </tr>\n",
       "    <tr>\n",
       "      <th>3</th>\n",
       "      <td>3.0</td>\n",
       "      <td>3.0</td>\n",
       "      <td>2231.0</td>\n",
       "      <td>10.0</td>\n",
       "      <td>SingleFamily</td>\n",
       "      <td>1927.0</td>\n",
       "      <td>1277600</td>\n",
       "      <td>high_price_high_freq</td>\n",
       "      <td>2700000.0</td>\n",
       "    </tr>\n",
       "    <tr>\n",
       "      <th>4</th>\n",
       "      <td>3.0</td>\n",
       "      <td>3.0</td>\n",
       "      <td>1300.0</td>\n",
       "      <td>4.0</td>\n",
       "      <td>SingleFamily</td>\n",
       "      <td>1900.0</td>\n",
       "      <td>1248000</td>\n",
       "      <td>high_price_high_freq</td>\n",
       "      <td>1530000.0</td>\n",
       "    </tr>\n",
       "  </tbody>\n",
       "</table>\n",
       "</div>"
      ],
      "text/plain": [
       "   bathrooms  bedrooms  finishedsqft  totalrooms       usecode  yearbuilt  \\\n",
       "0        2.0       2.0        1043.0         4.0   Condominium     2007.0   \n",
       "1        1.0       1.0         903.0         3.0   Condominium     2004.0   \n",
       "2        4.0       3.0        1425.0         6.0   Condominium     2003.0   \n",
       "3        3.0       3.0        2231.0        10.0  SingleFamily     1927.0   \n",
       "4        3.0       3.0        1300.0         4.0  SingleFamily     1900.0   \n",
       "\n",
       "   zindexvalue                 group  lastsoldprice  \n",
       "0       975700  high_price_high_freq      1300000.0  \n",
       "1       975700  high_price_high_freq       750000.0  \n",
       "2      1277600  high_price_high_freq      1495000.0  \n",
       "3      1277600  high_price_high_freq      2700000.0  \n",
       "4      1248000  high_price_high_freq      1530000.0  "
      ]
     },
     "execution_count": 86,
     "metadata": {},
     "output_type": "execute_result"
    }
   ],
   "source": [
    "\n",
    "dataset.drop(['address','lastsolddate','lastsoldprice','latitude', 'longitude', 'neighborhood','price_per_sqft'],axis=1)\n",
    "dataset = dataset[['bathrooms', 'bedrooms', 'finishedsqft', 'totalrooms', 'usecode', 'yearbuilt','zindexvalue', 'group', 'lastsoldprice']]\n",
    "dataset.head()"
   ]
  },
  {
   "cell_type": "code",
   "execution_count": 87,
   "metadata": {},
   "outputs": [
    {
     "name": "stdout",
     "output_type": "stream",
     "text": [
      "   bathrooms  bedrooms  finishedsqft  totalrooms  yearbuilt  zindexvalue  \\\n",
      "0        2.0       2.0        1043.0         4.0     2007.0       975700   \n",
      "1        1.0       1.0         903.0         3.0     2004.0       975700   \n",
      "2        4.0       3.0        1425.0         6.0     2003.0      1277600   \n",
      "3        3.0       3.0        2231.0        10.0     1927.0      1277600   \n",
      "4        3.0       3.0        1300.0         4.0     1900.0      1248000   \n",
      "\n",
      "   lastsoldprice  usecode_Apartment  usecode_Condominium  usecode_Cooperative  \\\n",
      "0      1300000.0                  0                    1                    0   \n",
      "1       750000.0                  0                    1                    0   \n",
      "2      1495000.0                  0                    1                    0   \n",
      "3      2700000.0                  0                    0                    0   \n",
      "4      1530000.0                  0                    0                    0   \n",
      "\n",
      "   usecode_Duplex  usecode_Miscellaneous  usecode_Mobile  \\\n",
      "0               0                      0               0   \n",
      "1               0                      0               0   \n",
      "2               0                      0               0   \n",
      "3               0                      0               0   \n",
      "4               0                      0               0   \n",
      "\n",
      "   usecode_MultiFamily2To4  usecode_MultiFamily5Plus  usecode_SingleFamily  \\\n",
      "0                        0                         0                     0   \n",
      "1                        0                         0                     0   \n",
      "2                        0                         0                     0   \n",
      "3                        0                         0                     1   \n",
      "4                        0                         0                     1   \n",
      "\n",
      "   usecode_Townhouse  group_high_price_high_freq  group_high_price_low_freq  \\\n",
      "0                  0                           1                          0   \n",
      "1                  0                           1                          0   \n",
      "2                  0                           1                          0   \n",
      "3                  0                           1                          0   \n",
      "4                  0                           1                          0   \n",
      "\n",
      "   group_low_price  \n",
      "0                0  \n",
      "1                0  \n",
      "2                0  \n",
      "3                0  \n",
      "4                0  \n"
     ]
    }
   ],
   "source": [
    "X=pd.get_dummies(dataset,columns=['usecode','group'])\n",
    "print(X.head())"
   ]
  },
  {
   "cell_type": "code",
   "execution_count": 88,
   "metadata": {},
   "outputs": [
    {
     "name": "stdout",
     "output_type": "stream",
     "text": [
      "0.5517095283577207\n",
      "0.561924150107501\n",
      "[1756408.33887872 1453829.81843448  522317.8351514  ... 1649367.79592261\n",
      " 2849318.85044313 1044143.14180038]\n",
      "616071.5747809005\n"
     ]
    }
   ],
   "source": [
    "X_new=X.drop(['lastsoldprice'],axis=1)\n",
    "#print(X_new)\n",
    "\n",
    "y=dataset['lastsoldprice']\n",
    "import numpy as np\n",
    "from sklearn.model_selection import train_test_split\n",
    "X_train,X_test,y_train,y_test=train_test_split(X_new,y,test_size=0.3,random_state=0)\n",
    "from sklearn.linear_model import LinearRegression\n",
    "reg=LinearRegression()\n",
    "reg.fit(X_train,y_train)\n",
    "print(reg.score(X_train,y_train))\n",
    "print(reg.score(X_test,y_test))\n",
    "y_pred=reg.predict(X_test)\n",
    "print(y_pred)\n",
    "from sklearn.metrics import mean_squared_error\n",
    "mse=mean_squared_error(y_pred,y_test)\n",
    "\n",
    "rmse=np.sqrt(mse)\n",
    "#print('{rmse:{f}}'.format(rmse=rmse, f='.4f'))\n",
    "#print('{:.4f}'.format(rmse))\n",
    "#print('%.4f',%rmse)\n",
    "print(rmse)\n"
   ]
  },
  {
   "cell_type": "code",
   "execution_count": 63,
   "metadata": {},
   "outputs": [
    {
     "name": "stdout",
     "output_type": "stream",
     "text": [
      "[ 2.04243934e+05 -8.40295805e+04  5.74600787e+02  5.56233563e+03\n",
      " -1.96383276e+02  3.41075491e-01  1.37687918e+05  1.52869774e+05\n",
      " -3.93971044e+05 -5.96792870e+05  1.85715492e+05  4.22450898e+05\n",
      " -1.99897160e+05 -2.88239049e+05  4.00317207e+05  1.79858833e+05\n",
      "  2.45812187e+05  5.35757094e+04 -2.99387896e+05]\n"
     ]
    }
   ],
   "source": [
    "print(reg.coef_)"
   ]
  },
  {
   "cell_type": "code",
   "execution_count": 64,
   "metadata": {},
   "outputs": [
    {
     "name": "stdout",
     "output_type": "stream",
     "text": [
      "-202078.8277113496\n"
     ]
    }
   ],
   "source": [
    "print(reg.intercept_)"
   ]
  },
  {
   "cell_type": "code",
   "execution_count": 102,
   "metadata": {},
   "outputs": [],
   "source": [
    "import statsmodels.formula.api as sm\n",
    "def backwardElimination(x, sl):\n",
    "    \n",
    "    numVars = len(x[0])\n",
    "    for i in range(0, numVars):\n",
    "        regressor_OLS = sm.OLS(y, x).fit()\n",
    "        maxVar = max(regressor_OLS.pvalues)\n",
    "        if maxVar > sl:\n",
    "            for j in range(0, numVars - i):\n",
    "                if (regressor_OLS.pvalues[j] == maxVar):\n",
    "                     x = np.delete(x, j, 1)\n",
    "    regressor_OLS.summary()\n",
    "    return x"
   ]
  },
  {
   "cell_type": "code",
   "execution_count": 106,
   "metadata": {},
   "outputs": [
    {
     "name": "stdout",
     "output_type": "stream",
     "text": [
      "(11330, 20)\n",
      "(11330, 11)\n",
      "[[2.000e+00 2.000e+00 1.043e+03 ... 0.000e+00 1.000e+00 0.000e+00]\n",
      " [1.000e+00 1.000e+00 9.030e+02 ... 0.000e+00 1.000e+00 0.000e+00]\n",
      " [4.000e+00 3.000e+00 1.425e+03 ... 0.000e+00 1.000e+00 0.000e+00]\n",
      " ...\n",
      " [1.000e+00 2.000e+00 8.750e+02 ... 1.000e+00 0.000e+00 1.000e+00]\n",
      " [1.000e+00 2.000e+00 6.970e+02 ... 1.000e+00 0.000e+00 1.000e+00]\n",
      " [2.000e+00 3.000e+00 1.539e+03 ... 1.000e+00 1.000e+00 0.000e+00]]\n"
     ]
    }
   ],
   "source": [
    "#Bulding the optimal model using Backward Elimination\n",
    "import statsmodels.api as sm\n",
    "SL=0.05\n",
    "#X_new=X.drop(['lastsoldprice'],axis=1)\n",
    "#print(X_new.shape)\n",
    "X = np.append(arr = np.ones((11330,1)), values = X_new, axis = 1)\n",
    "print(X.shape)\n",
    "\n",
    "X_Modeled = backwardElimination(X, SL)\n",
    "print(X_Modeled.shape)\n",
    "print(X_Modeled)\n"
   ]
  },
  {
   "cell_type": "code",
   "execution_count": 107,
   "metadata": {},
   "outputs": [],
   "source": [
    "from sklearn.model_selection import train_test_split\n",
    "X_train, X_test, y_train, y_test = train_test_split(X_Modeled, \n",
    "                                                    y, test_size = 0.3, random_state = 0)"
   ]
  },
  {
   "cell_type": "code",
   "execution_count": 112,
   "metadata": {},
   "outputs": [
    {
     "name": "stdout",
     "output_type": "stream",
     "text": [
      "0.5790\n",
      "603962.7602\n"
     ]
    }
   ],
   "source": [
    "from sklearn.linear_model import LinearRegression\n",
    "import numpy as np\n",
    "reg=LinearRegression()\n",
    "reg.fit(X_train,y_train)\n",
    "print('%.4f'%reg.score(X_test, y_test))\n",
    "y_pred=reg.predict(X_test)\n",
    "#print(y_pred)\n",
    "from sklearn.metrics import mean_squared_error\n",
    "mse=mean_squared_error(y_pred,y_test)\n",
    "rmse=np.sqrt(mse)\n",
    "print('%.4f'%rmse)"
   ]
  },
  {
   "cell_type": "code",
   "execution_count": null,
   "metadata": {},
   "outputs": [],
   "source": []
  }
 ],
 "metadata": {
  "kernelspec": {
   "display_name": "Python 3",
   "language": "python",
   "name": "python3"
  },
  "language_info": {
   "codemirror_mode": {
    "name": "ipython",
    "version": 3
   },
   "file_extension": ".py",
   "mimetype": "text/x-python",
   "name": "python",
   "nbconvert_exporter": "python",
   "pygments_lexer": "ipython3",
   "version": "3.7.7"
  }
 },
 "nbformat": 4,
 "nbformat_minor": 4
}

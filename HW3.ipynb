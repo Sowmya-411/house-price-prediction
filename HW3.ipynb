{
 "cells": [
  {
   "cell_type": "markdown",
   "metadata": {},
   "source": [
    "<center>\n",
    "<h1> Assignment 3: Regression Analysis</h1>\n",
    "<hr>\n",
    "<h2>Predict The Bay Area’s Home Prices</h2>\n",
    "<hr>\n",
    "<h3> MCIS 6283-Machine Learning </h3>\n",
    "\n",
    "<h3><mark>Due date: Mar 9th, 2021 (Tuesday)</mark></h3>\n",
    "<h3>Total Points: 100</h3>\n",
    "\n",
    "<h4>Instructor: Dr. Ahmad Al Shami</h4>\n",
    "\n",
    "\n",
    "</center>"
   ]
  },
  {
   "cell_type": "markdown",
   "metadata": {},
   "source": [
    "### Please put your name, student ID, date and time here (5 points)\n",
    "* Name:Sowmya Reddy Baddam\n",
    "* Student ID:999900971\n",
    "* Date:03/05/2021\n",
    "* Time:5.00 p.m"
   ]
  },
  {
   "cell_type": "markdown",
   "metadata": {},
   "source": [
    "### Instructions\n",
    "* In this assignment, you will investigate the housing price dataset from Bay Area Home Sales Database and Zillow to Predict The Bay Area’s Home Prices.\n",
    "* This dataset was based on the homes sold between January 2013 and December 2015.\n",
    "* Please use all the techniques we have learned in the class to preprocesss/clean the dataset.\n",
    "* You can drop redundant features.\n",
    "<p style=\"color:blue\"><b>final_data.csv</b></p>\n",
    "* Please apply the folowing four methods to Predict The Bay Area’s Home Prices.\n",
    "\n",
    "<h3>Method 1: Multiple Linear Regression</h3>\n",
    "\n",
    "* Bulding the optimal model using Automatic implementations of Backward Elimination\n",
    "```\n",
    "def backwardElimination(x, sl):\n",
    "    numVars = len(x[0])\n",
    "    for i in range(0, numVars):\n",
    "        regressor_OLS = sm.OLS(y, x).fit()\n",
    "        maxVar = max(regressor_OLS.pvalues)\n",
    "        if maxVar > sl:\n",
    "            for j in range(0, numVars - i):\n",
    "                if (regressor_OLS.pvalues[j] == maxVar):\n",
    "                    x = np.delete(x, j, 1)\n",
    "    regressor_OLS.summary()\n",
    "    return x\n",
    "```\n",
    "* <mark>Split the dataset into training sets and test sets</mark>\n",
    "\n",
    "* Fit LinearRegression to the training sets \n",
    "* Print the Linear Regression R squared score on the test sets\n",
    "* Print the Linear Regression RMSE score on the test sets\n",
    "\n",
    "<h3>Method 2: Least Absolute Shrinkage and Selection Operator(Lasso)</h3>\n",
    "\n",
    "* Fit Lasso to the training sets. \n",
    "* Print the Lasso R squared score on the test sets\n",
    "* Print the Lasso RMSE score on the test sets\n",
    "\n",
    "<h3>Method 3: Decision Tree </h3>\n",
    "\n",
    "* Fit Decision Tree to the training set. \n",
    "* Print the Decision Tree R squared score on the test sets\n",
    "* Print the Decision Tree RMSE score on the test sets\n",
    "\n",
    "<h3>Method 4: Random Forest </h3>\n",
    "\n",
    "* Fit Random Forest to the training sets. \n",
    "* Print the Random Forest R squared score on the test sets\n",
    "* Print the Random Forest RMSE score on the test sets"
   ]
  },
  {
   "cell_type": "markdown",
   "metadata": {},
   "source": [
    "## 1. Import dataset \"final_data.csv\" in pandas (5 points)"
   ]
  },
  {
   "cell_type": "code",
   "execution_count": 145,
   "metadata": {},
   "outputs": [
    {
     "name": "stdout",
     "output_type": "stream",
     "text": [
      "Index(['Unnamed: 0', 'address', 'info', 'z_address', 'bathrooms', 'bedrooms',\n",
      "       'finishedsqft', 'lastsolddate', 'lastsoldprice', 'latitude',\n",
      "       'longitude', 'neighborhood', 'totalrooms', 'usecode', 'yearbuilt',\n",
      "       'zestimate', 'zindexvalue', 'zipcode', 'zpid'],\n",
      "      dtype='object')\n",
      "(11330, 19)\n"
     ]
    }
   ],
   "source": [
    "import pandas as pd\n",
    "dataset = pd.read_csv('final_data.csv')\n",
    "print(dataset.columns)\n",
    "print(dataset.shape)\n",
    "\n"
   ]
  },
  {
   "cell_type": "code",
   "execution_count": 146,
   "metadata": {},
   "outputs": [
    {
     "name": "stdout",
     "output_type": "stream",
     "text": [
      "<class 'pandas.core.frame.DataFrame'>\n",
      "RangeIndex: 11330 entries, 0 to 11329\n",
      "Data columns (total 19 columns):\n",
      " #   Column         Non-Null Count  Dtype  \n",
      "---  ------         --------------  -----  \n",
      " 0   Unnamed: 0     11330 non-null  int64  \n",
      " 1   address        11330 non-null  object \n",
      " 2   info           11330 non-null  object \n",
      " 3   z_address      11330 non-null  object \n",
      " 4   bathrooms      11330 non-null  float64\n",
      " 5   bedrooms       11330 non-null  float64\n",
      " 6   finishedsqft   11330 non-null  float64\n",
      " 7   lastsolddate   11330 non-null  object \n",
      " 8   lastsoldprice  11330 non-null  float64\n",
      " 9   latitude       11330 non-null  float64\n",
      " 10  longitude      11330 non-null  float64\n",
      " 11  neighborhood   11330 non-null  object \n",
      " 12  totalrooms     11330 non-null  float64\n",
      " 13  usecode        11330 non-null  object \n",
      " 14  yearbuilt      11330 non-null  float64\n",
      " 15  zestimate      11330 non-null  float64\n",
      " 16  zindexvalue    11330 non-null  object \n",
      " 17  zipcode        11330 non-null  float64\n",
      " 18  zpid           11330 non-null  float64\n",
      "dtypes: float64(11), int64(1), object(7)\n",
      "memory usage: 1.6+ MB\n",
      "None\n"
     ]
    }
   ],
   "source": [
    "print(dataset.info())\n",
    "#print(dataset.dtypes)"
   ]
  },
  {
   "cell_type": "code",
   "execution_count": 147,
   "metadata": {},
   "outputs": [
    {
     "data": {
      "text/html": [
       "<div>\n",
       "<style scoped>\n",
       "    .dataframe tbody tr th:only-of-type {\n",
       "        vertical-align: middle;\n",
       "    }\n",
       "\n",
       "    .dataframe tbody tr th {\n",
       "        vertical-align: top;\n",
       "    }\n",
       "\n",
       "    .dataframe thead th {\n",
       "        text-align: right;\n",
       "    }\n",
       "</style>\n",
       "<table border=\"1\" class=\"dataframe\">\n",
       "  <thead>\n",
       "    <tr style=\"text-align: right;\">\n",
       "      <th></th>\n",
       "      <th>Unnamed: 0</th>\n",
       "      <th>address</th>\n",
       "      <th>info</th>\n",
       "      <th>z_address</th>\n",
       "      <th>bathrooms</th>\n",
       "      <th>bedrooms</th>\n",
       "      <th>finishedsqft</th>\n",
       "      <th>lastsolddate</th>\n",
       "      <th>lastsoldprice</th>\n",
       "      <th>latitude</th>\n",
       "      <th>longitude</th>\n",
       "      <th>neighborhood</th>\n",
       "      <th>totalrooms</th>\n",
       "      <th>usecode</th>\n",
       "      <th>yearbuilt</th>\n",
       "      <th>zestimate</th>\n",
       "      <th>zindexvalue</th>\n",
       "      <th>zipcode</th>\n",
       "      <th>zpid</th>\n",
       "    </tr>\n",
       "  </thead>\n",
       "  <tbody>\n",
       "    <tr>\n",
       "      <th>0</th>\n",
       "      <td>2</td>\n",
       "      <td>Address: 1160 Mission Street #2007</td>\n",
       "      <td>San FranciscoSales price: 1300000Sales date: ...</td>\n",
       "      <td>1160 Mission St UNIT 2007</td>\n",
       "      <td>2.0</td>\n",
       "      <td>2.0</td>\n",
       "      <td>1043.0</td>\n",
       "      <td>02/17/2016</td>\n",
       "      <td>1300000.0</td>\n",
       "      <td>37.778705</td>\n",
       "      <td>-122.412635</td>\n",
       "      <td>South of Market</td>\n",
       "      <td>4.0</td>\n",
       "      <td>Condominium</td>\n",
       "      <td>2007.0</td>\n",
       "      <td>1167508.0</td>\n",
       "      <td>975,700</td>\n",
       "      <td>94103.0</td>\n",
       "      <td>83152781.0</td>\n",
       "    </tr>\n",
       "    <tr>\n",
       "      <th>1</th>\n",
       "      <td>5</td>\n",
       "      <td>Address: 260 King Street #475</td>\n",
       "      <td>San FranciscoSales price: 750000Sales date: 0...</td>\n",
       "      <td>260 King St UNIT 475</td>\n",
       "      <td>1.0</td>\n",
       "      <td>1.0</td>\n",
       "      <td>903.0</td>\n",
       "      <td>02/17/2016</td>\n",
       "      <td>750000.0</td>\n",
       "      <td>37.777641</td>\n",
       "      <td>-122.393417</td>\n",
       "      <td>South of Market</td>\n",
       "      <td>3.0</td>\n",
       "      <td>Condominium</td>\n",
       "      <td>2004.0</td>\n",
       "      <td>823719.0</td>\n",
       "      <td>975,700</td>\n",
       "      <td>94107.0</td>\n",
       "      <td>69819817.0</td>\n",
       "    </tr>\n",
       "    <tr>\n",
       "      <th>2</th>\n",
       "      <td>7</td>\n",
       "      <td>Address: 560 Missouri Street #B</td>\n",
       "      <td>San FranciscoSales price: 1495000Sales date: ...</td>\n",
       "      <td>560 Missouri St # B</td>\n",
       "      <td>4.0</td>\n",
       "      <td>3.0</td>\n",
       "      <td>1425.0</td>\n",
       "      <td>02/17/2016</td>\n",
       "      <td>1495000.0</td>\n",
       "      <td>37.759198</td>\n",
       "      <td>-122.396516</td>\n",
       "      <td>Potrero Hill</td>\n",
       "      <td>6.0</td>\n",
       "      <td>Condominium</td>\n",
       "      <td>2003.0</td>\n",
       "      <td>1708594.0</td>\n",
       "      <td>1,277,600</td>\n",
       "      <td>94107.0</td>\n",
       "      <td>64972847.0</td>\n",
       "    </tr>\n",
       "    <tr>\n",
       "      <th>3</th>\n",
       "      <td>9</td>\n",
       "      <td>Address: 350 Missouri Street</td>\n",
       "      <td>San FranciscoSales price: 2700000Sales date: ...</td>\n",
       "      <td>350 Missouri St</td>\n",
       "      <td>3.0</td>\n",
       "      <td>3.0</td>\n",
       "      <td>2231.0</td>\n",
       "      <td>02/17/2016</td>\n",
       "      <td>2700000.0</td>\n",
       "      <td>37.761886</td>\n",
       "      <td>-122.396769</td>\n",
       "      <td>Potrero Hill</td>\n",
       "      <td>10.0</td>\n",
       "      <td>SingleFamily</td>\n",
       "      <td>1927.0</td>\n",
       "      <td>2411236.0</td>\n",
       "      <td>1,277,600</td>\n",
       "      <td>94107.0</td>\n",
       "      <td>15149489.0</td>\n",
       "    </tr>\n",
       "    <tr>\n",
       "      <th>4</th>\n",
       "      <td>11</td>\n",
       "      <td>Address: 3658 Folsom Street</td>\n",
       "      <td>San FranciscoSales price: 1530000Sales date: ...</td>\n",
       "      <td>3658 Folsom St</td>\n",
       "      <td>3.0</td>\n",
       "      <td>3.0</td>\n",
       "      <td>1300.0</td>\n",
       "      <td>02/17/2016</td>\n",
       "      <td>1530000.0</td>\n",
       "      <td>37.740795</td>\n",
       "      <td>-122.413453</td>\n",
       "      <td>Bernal Heights</td>\n",
       "      <td>4.0</td>\n",
       "      <td>SingleFamily</td>\n",
       "      <td>1900.0</td>\n",
       "      <td>1918539.0</td>\n",
       "      <td>1,248,000</td>\n",
       "      <td>94110.0</td>\n",
       "      <td>15161978.0</td>\n",
       "    </tr>\n",
       "  </tbody>\n",
       "</table>\n",
       "</div>"
      ],
      "text/plain": [
       "   Unnamed: 0                             address  \\\n",
       "0           2  Address: 1160 Mission Street #2007   \n",
       "1           5       Address: 260 King Street #475   \n",
       "2           7     Address: 560 Missouri Street #B   \n",
       "3           9        Address: 350 Missouri Street   \n",
       "4          11         Address: 3658 Folsom Street   \n",
       "\n",
       "                                                info  \\\n",
       "0   San FranciscoSales price: 1300000Sales date: ...   \n",
       "1   San FranciscoSales price: 750000Sales date: 0...   \n",
       "2   San FranciscoSales price: 1495000Sales date: ...   \n",
       "3   San FranciscoSales price: 2700000Sales date: ...   \n",
       "4   San FranciscoSales price: 1530000Sales date: ...   \n",
       "\n",
       "                   z_address  bathrooms  bedrooms  finishedsqft lastsolddate  \\\n",
       "0  1160 Mission St UNIT 2007        2.0       2.0        1043.0   02/17/2016   \n",
       "1       260 King St UNIT 475        1.0       1.0         903.0   02/17/2016   \n",
       "2        560 Missouri St # B        4.0       3.0        1425.0   02/17/2016   \n",
       "3            350 Missouri St        3.0       3.0        2231.0   02/17/2016   \n",
       "4             3658 Folsom St        3.0       3.0        1300.0   02/17/2016   \n",
       "\n",
       "   lastsoldprice   latitude   longitude     neighborhood  totalrooms  \\\n",
       "0      1300000.0  37.778705 -122.412635  South of Market         4.0   \n",
       "1       750000.0  37.777641 -122.393417  South of Market         3.0   \n",
       "2      1495000.0  37.759198 -122.396516     Potrero Hill         6.0   \n",
       "3      2700000.0  37.761886 -122.396769     Potrero Hill        10.0   \n",
       "4      1530000.0  37.740795 -122.413453   Bernal Heights         4.0   \n",
       "\n",
       "        usecode  yearbuilt  zestimate zindexvalue  zipcode        zpid  \n",
       "0   Condominium     2007.0  1167508.0     975,700  94103.0  83152781.0  \n",
       "1   Condominium     2004.0   823719.0     975,700  94107.0  69819817.0  \n",
       "2   Condominium     2003.0  1708594.0   1,277,600  94107.0  64972847.0  \n",
       "3  SingleFamily     1927.0  2411236.0   1,277,600  94107.0  15149489.0  \n",
       "4  SingleFamily     1900.0  1918539.0   1,248,000  94110.0  15161978.0  "
      ]
     },
     "execution_count": 147,
     "metadata": {},
     "output_type": "execute_result"
    }
   ],
   "source": [
    "dataset.head()"
   ]
  },
  {
   "cell_type": "markdown",
   "metadata": {
    "collapsed": true
   },
   "source": [
    "## 2. Preprocess/Clean the Dataset(20 points)"
   ]
  },
  {
   "cell_type": "code",
   "execution_count": 148,
   "metadata": {
    "scrolled": true
   },
   "outputs": [],
   "source": [
    "#converting datatypes of lastsolddate column to date and zindexvalue to int\n",
    "dataset['lastsolddate']=pd.to_datetime(dataset['lastsolddate'])\n",
    "dataset['zindexvalue']=dataset['zindexvalue'].str.replace(',','')\n",
    "\n"
   ]
  },
  {
   "cell_type": "code",
   "execution_count": 149,
   "metadata": {},
   "outputs": [
    {
     "name": "stdout",
     "output_type": "stream",
     "text": [
      "Unnamed: 0                int64\n",
      "address                  object\n",
      "info                     object\n",
      "z_address                object\n",
      "bathrooms               float64\n",
      "bedrooms                float64\n",
      "finishedsqft            float64\n",
      "lastsolddate     datetime64[ns]\n",
      "lastsoldprice           float64\n",
      "latitude                float64\n",
      "longitude               float64\n",
      "neighborhood             object\n",
      "totalrooms              float64\n",
      "usecode                  object\n",
      "yearbuilt               float64\n",
      "zestimate               float64\n",
      "zindexvalue               int64\n",
      "zipcode                 float64\n",
      "zpid                    float64\n",
      "dtype: object\n"
     ]
    }
   ],
   "source": [
    "dataset['zindexvalue']=pd.to_numeric(dataset['zindexvalue'])\n",
    "print(dataset.dtypes)\n"
   ]
  },
  {
   "cell_type": "code",
   "execution_count": 150,
   "metadata": {},
   "outputs": [],
   "source": [
    "#print(dataset['lastsolddate'],dataset['zindexvalue'])"
   ]
  },
  {
   "cell_type": "code",
   "execution_count": 151,
   "metadata": {
    "scrolled": true
   },
   "outputs": [
    {
     "name": "stdout",
     "output_type": "stream",
     "text": [
      "(9378, 19)\n"
     ]
    }
   ],
   "source": [
    "#* This dataset was based on the homes sold between January 2013 and December 2015. \n",
    "#This dataset has other date ranges also . So in order to make date ranges in the given range I have done this\n",
    "start_date = '2013-01-02'\n",
    "end_date = '2015-12-31'\n",
    "mask = (dataset['lastsolddate'] > start_date) & (dataset['lastsolddate'] <= end_date)\n",
    "dataset_new = dataset.loc[mask]\n",
    "print(dataset_new.shape)"
   ]
  },
  {
   "cell_type": "code",
   "execution_count": 152,
   "metadata": {},
   "outputs": [
    {
     "data": {
      "text/html": [
       "<div>\n",
       "<style scoped>\n",
       "    .dataframe tbody tr th:only-of-type {\n",
       "        vertical-align: middle;\n",
       "    }\n",
       "\n",
       "    .dataframe tbody tr th {\n",
       "        vertical-align: top;\n",
       "    }\n",
       "\n",
       "    .dataframe thead th {\n",
       "        text-align: right;\n",
       "    }\n",
       "</style>\n",
       "<table border=\"1\" class=\"dataframe\">\n",
       "  <thead>\n",
       "    <tr style=\"text-align: right;\">\n",
       "      <th></th>\n",
       "      <th>Unnamed: 0</th>\n",
       "      <th>address</th>\n",
       "      <th>info</th>\n",
       "      <th>z_address</th>\n",
       "      <th>bathrooms</th>\n",
       "      <th>bedrooms</th>\n",
       "      <th>finishedsqft</th>\n",
       "      <th>lastsolddate</th>\n",
       "      <th>lastsoldprice</th>\n",
       "      <th>latitude</th>\n",
       "      <th>longitude</th>\n",
       "      <th>neighborhood</th>\n",
       "      <th>totalrooms</th>\n",
       "      <th>usecode</th>\n",
       "      <th>yearbuilt</th>\n",
       "      <th>zestimate</th>\n",
       "      <th>zindexvalue</th>\n",
       "      <th>zipcode</th>\n",
       "      <th>zpid</th>\n",
       "    </tr>\n",
       "  </thead>\n",
       "  <tbody>\n",
       "    <tr>\n",
       "      <th>12</th>\n",
       "      <td>24</td>\n",
       "      <td>Address: 370 Church Street #F</td>\n",
       "      <td>San FranciscoSales price: 888000Sales date: 0...</td>\n",
       "      <td>370 Church St APT F</td>\n",
       "      <td>1.0</td>\n",
       "      <td>1.0</td>\n",
       "      <td>780.0</td>\n",
       "      <td>2015-08-12</td>\n",
       "      <td>863000.0</td>\n",
       "      <td>37.765062</td>\n",
       "      <td>-122.429077</td>\n",
       "      <td>Eureka Valley - Dolores Heights - Castro</td>\n",
       "      <td>4.0</td>\n",
       "      <td>Condominium</td>\n",
       "      <td>1981.0</td>\n",
       "      <td>847894.0</td>\n",
       "      <td>1744100</td>\n",
       "      <td>94114.0</td>\n",
       "      <td>15143549.0</td>\n",
       "    </tr>\n",
       "    <tr>\n",
       "      <th>66</th>\n",
       "      <td>136</td>\n",
       "      <td>Address: 861 Rhode Island Street #A</td>\n",
       "      <td>San FranciscoSales price: 1110000Sales date: ...</td>\n",
       "      <td>961A Rhode Island St</td>\n",
       "      <td>2.5</td>\n",
       "      <td>4.0</td>\n",
       "      <td>2166.0</td>\n",
       "      <td>2015-06-11</td>\n",
       "      <td>1600000.0</td>\n",
       "      <td>37.757681</td>\n",
       "      <td>-122.401578</td>\n",
       "      <td>Potrero Hill</td>\n",
       "      <td>11.0</td>\n",
       "      <td>MultiFamily2To4</td>\n",
       "      <td>1908.0</td>\n",
       "      <td>1599122.0</td>\n",
       "      <td>1277600</td>\n",
       "      <td>94107.0</td>\n",
       "      <td>15150449.0</td>\n",
       "    </tr>\n",
       "    <tr>\n",
       "      <th>94</th>\n",
       "      <td>253</td>\n",
       "      <td>Address: 701 Pennsylvania Avenue</td>\n",
       "      <td>San FranciscoSales price: 850000Sales date: 0...</td>\n",
       "      <td>701 Pennsylvania Ave # T13</td>\n",
       "      <td>2.0</td>\n",
       "      <td>1.0</td>\n",
       "      <td>842.0</td>\n",
       "      <td>2015-03-24</td>\n",
       "      <td>640000.0</td>\n",
       "      <td>37.757380</td>\n",
       "      <td>-122.392830</td>\n",
       "      <td>Potrero Hill</td>\n",
       "      <td>2.0</td>\n",
       "      <td>Condominium</td>\n",
       "      <td>1999.0</td>\n",
       "      <td>905401.0</td>\n",
       "      <td>1277600</td>\n",
       "      <td>94107.0</td>\n",
       "      <td>58770199.0</td>\n",
       "    </tr>\n",
       "    <tr>\n",
       "      <th>222</th>\n",
       "      <td>564</td>\n",
       "      <td>Address: 180 7th Street #408</td>\n",
       "      <td>San FranciscoSales price: 550000Sales date: 1...</td>\n",
       "      <td>180 7th St # 408</td>\n",
       "      <td>1.0</td>\n",
       "      <td>1.0</td>\n",
       "      <td>470.0</td>\n",
       "      <td>2015-12-31</td>\n",
       "      <td>550000.0</td>\n",
       "      <td>37.778082</td>\n",
       "      <td>-122.410082</td>\n",
       "      <td>South of Market</td>\n",
       "      <td>3.0</td>\n",
       "      <td>Condominium</td>\n",
       "      <td>1992.0</td>\n",
       "      <td>540858.0</td>\n",
       "      <td>975700</td>\n",
       "      <td>94103.0</td>\n",
       "      <td>15147378.0</td>\n",
       "    </tr>\n",
       "    <tr>\n",
       "      <th>223</th>\n",
       "      <td>569</td>\n",
       "      <td>Address: 961 San Bruno Avenue</td>\n",
       "      <td>San FranciscoSales price: 980000Sales date: 1...</td>\n",
       "      <td>961 San Bruno Ave</td>\n",
       "      <td>2.0</td>\n",
       "      <td>2.0</td>\n",
       "      <td>1297.0</td>\n",
       "      <td>2015-12-31</td>\n",
       "      <td>980000.0</td>\n",
       "      <td>37.757433</td>\n",
       "      <td>-122.404508</td>\n",
       "      <td>Mission</td>\n",
       "      <td>6.0</td>\n",
       "      <td>SingleFamily</td>\n",
       "      <td>1927.0</td>\n",
       "      <td>1100483.0</td>\n",
       "      <td>1185400</td>\n",
       "      <td>94110.0</td>\n",
       "      <td>15151012.0</td>\n",
       "    </tr>\n",
       "  </tbody>\n",
       "</table>\n",
       "</div>"
      ],
      "text/plain": [
       "     Unnamed: 0                              address  \\\n",
       "12           24        Address: 370 Church Street #F   \n",
       "66          136  Address: 861 Rhode Island Street #A   \n",
       "94          253     Address: 701 Pennsylvania Avenue   \n",
       "222         564         Address: 180 7th Street #408   \n",
       "223         569        Address: 961 San Bruno Avenue   \n",
       "\n",
       "                                                  info  \\\n",
       "12    San FranciscoSales price: 888000Sales date: 0...   \n",
       "66    San FranciscoSales price: 1110000Sales date: ...   \n",
       "94    San FranciscoSales price: 850000Sales date: 0...   \n",
       "222   San FranciscoSales price: 550000Sales date: 1...   \n",
       "223   San FranciscoSales price: 980000Sales date: 1...   \n",
       "\n",
       "                      z_address  bathrooms  bedrooms  finishedsqft  \\\n",
       "12          370 Church St APT F        1.0       1.0         780.0   \n",
       "66         961A Rhode Island St        2.5       4.0        2166.0   \n",
       "94   701 Pennsylvania Ave # T13        2.0       1.0         842.0   \n",
       "222            180 7th St # 408        1.0       1.0         470.0   \n",
       "223           961 San Bruno Ave        2.0       2.0        1297.0   \n",
       "\n",
       "    lastsolddate  lastsoldprice   latitude   longitude  \\\n",
       "12    2015-08-12       863000.0  37.765062 -122.429077   \n",
       "66    2015-06-11      1600000.0  37.757681 -122.401578   \n",
       "94    2015-03-24       640000.0  37.757380 -122.392830   \n",
       "222   2015-12-31       550000.0  37.778082 -122.410082   \n",
       "223   2015-12-31       980000.0  37.757433 -122.404508   \n",
       "\n",
       "                                 neighborhood  totalrooms          usecode  \\\n",
       "12   Eureka Valley - Dolores Heights - Castro         4.0      Condominium   \n",
       "66                               Potrero Hill        11.0  MultiFamily2To4   \n",
       "94                               Potrero Hill         2.0      Condominium   \n",
       "222                           South of Market         3.0      Condominium   \n",
       "223                                   Mission         6.0     SingleFamily   \n",
       "\n",
       "     yearbuilt  zestimate  zindexvalue  zipcode        zpid  \n",
       "12      1981.0   847894.0      1744100  94114.0  15143549.0  \n",
       "66      1908.0  1599122.0      1277600  94107.0  15150449.0  \n",
       "94      1999.0   905401.0      1277600  94107.0  58770199.0  \n",
       "222     1992.0   540858.0       975700  94103.0  15147378.0  \n",
       "223     1927.0  1100483.0      1185400  94110.0  15151012.0  "
      ]
     },
     "execution_count": 152,
     "metadata": {},
     "output_type": "execute_result"
    }
   ],
   "source": [
    "dataset_new.head()"
   ]
  },
  {
   "cell_type": "code",
   "execution_count": 153,
   "metadata": {
    "scrolled": true
   },
   "outputs": [],
   "source": [
    "# since use code has 10 variables that needs to be encoded we have done enocdding using one-hot encoding\n",
    "#print(dataset['usecode'].value_counts())\n",
    "#print(dataset['neighborhood'].value_counts())"
   ]
  },
  {
   "cell_type": "code",
   "execution_count": 154,
   "metadata": {},
   "outputs": [
    {
     "name": "stdout",
     "output_type": "stream",
     "text": [
      "Unnamed: 0       2.422550e+07\n",
      "bathrooms        1.096959e+00\n",
      "bedrooms         1.688589e+00\n",
      "finishedsqft     8.500439e+05\n",
      "lastsoldprice    1.085929e+12\n",
      "latitude         6.542351e-04\n",
      "longitude        9.451565e-04\n",
      "totalrooms       1.470355e+02\n",
      "yearbuilt        1.437259e+03\n",
      "zestimate        1.511466e+12\n",
      "zindexvalue      3.420110e+11\n",
      "zipcode          8.837649e+01\n",
      "zpid             6.085157e+15\n",
      "dtype: float64\n"
     ]
    }
   ],
   "source": [
    "#Normalization\n",
    "#since all the features have variance in the same range we are not doing any normalization\n",
    "print(dataset.var())\n",
    "#Normalization\n",
    "#import numpy as np\n",
    "#print(dataset.var())\n",
    "#dataset['finishedsqft'] = np.log(dataset['finishedsqft'])\n",
    "#dataset['bedrooms'] = np.log(dataset['bedrooms'])\n",
    "#dataset['bathrooms']=np.log(dataset['bathrooms'])\n",
    "#dataset['totalrooms'] = np.log(dataset['totalrooms'])\n",
    "#dataset['zindexvalue'] = np.log(dataset['zindexvalue'])\n"
   ]
  },
  {
   "cell_type": "code",
   "execution_count": 155,
   "metadata": {},
   "outputs": [
    {
     "name": "stdout",
     "output_type": "stream",
     "text": [
      "Index(['finishedsqft', 'totalrooms', 'zindexvalue'], dtype='object')\n",
      "   finishedsqft  totalrooms  zindexvalue\n",
      "0        1043.0         4.0       975700\n",
      "1         903.0         3.0       975700\n",
      "2        1425.0         6.0      1277600\n",
      "3        2231.0        10.0      1277600\n",
      "4        1300.0         4.0      1248000\n"
     ]
    }
   ],
   "source": [
    "Features=dataset[['finishedsqft','totalrooms','zindexvalue']]\n",
    "#Features=dataset.drop(['lastsoldprice','Unnamed: 0','address','info','z_address','lastsolddate','latitude','longitude','neighborhood','usecode','yearbuilt','totalrooms','zipcode','zpid','bathrooms','bedrooms'],axis=1)\n",
    "Labels=dataset['lastsoldprice']\n",
    "print(Features.columns)\n",
    "print(Features.head())"
   ]
  },
  {
   "cell_type": "code",
   "execution_count": 156,
   "metadata": {},
   "outputs": [
    {
     "name": "stdout",
     "output_type": "stream",
     "text": [
      "         Unnamed: 0     bathrooms      bedrooms  finishedsqft  lastsoldprice  \\\n",
      "count  11330.000000  11330.000000  11330.000000  11330.000000   1.133000e+04   \n",
      "mean    9171.729214      1.980229      2.614475   1585.420918   1.263928e+06   \n",
      "std     4921.941074      1.047358      1.299457    921.978245   1.042079e+06   \n",
      "min        2.000000      0.500000      0.000000      1.000000   5.350000e+02   \n",
      "25%     5039.750000      1.000000      2.000000   1019.000000   7.292500e+05   \n",
      "50%     9198.500000      2.000000      2.000000   1362.000000   9.900000e+05   \n",
      "75%    13374.750000      2.000000      3.000000   1876.000000   1.450000e+06   \n",
      "max    17632.000000     14.000000     20.000000  27275.000000   2.388900e+07   \n",
      "\n",
      "           latitude     longitude    totalrooms     yearbuilt     zestimate  \\\n",
      "count  11330.000000  11330.000000  11330.000000  11330.000000  1.133000e+04   \n",
      "mean      37.759711   -122.436518      6.111562   1948.498147  1.565695e+06   \n",
      "std        0.025578      0.030743     12.125819     37.911196  1.229417e+06   \n",
      "min       37.708170   -122.510726      1.000000   1860.000000  4.323850e+05   \n",
      "25%       37.739286   -122.455157      4.000000   1916.000000  9.052375e+05   \n",
      "50%       37.760513   -122.432510      5.000000   1940.000000  1.230758e+06   \n",
      "75%       37.781386   -122.413359      7.000000   1986.000000  1.731170e+06   \n",
      "max       37.806083   -122.381201   1264.000000   2016.000000  1.553325e+07   \n",
      "\n",
      "        zindexvalue       zipcode          zpid  \n",
      "count  1.133000e+04  11330.000000  1.133000e+04  \n",
      "mean   1.320205e+06  94116.912004  3.689973e+07  \n",
      "std    5.848170e+05      9.400877  7.800741e+07  \n",
      "min    6.881000e+05  94102.000000  1.506329e+07  \n",
      "25%    9.829000e+05  94110.000000  1.510847e+07  \n",
      "50%    1.211900e+06  94115.000000  1.515697e+07  \n",
      "75%    1.480400e+06  94123.000000  5.970040e+07  \n",
      "max    5.333500e+06  94158.000000  2.146999e+09  \n",
      "                  0             1             2\n",
      "count  1.133000e+04  1.133000e+04  1.133000e+04\n",
      "mean   9.339457e-17 -1.909341e-16 -2.738370e-16\n",
      "std    1.000044e+00  1.000044e+00  1.000044e+00\n",
      "min   -1.718577e+00 -4.215623e-01 -1.080907e+00\n",
      "25%   -6.143810e-01 -1.741454e-01 -5.767953e-01\n",
      "50%   -2.423384e-01 -9.167309e-02 -1.852026e-01\n",
      "75%    3.151830e-01  7.327150e-02  2.739356e-01\n",
      "max    2.786477e+01  1.037409e+02  6.862783e+00\n"
     ]
    }
   ],
   "source": [
    "#Since these features have high standard deviation we are standrazing them\n",
    "from sklearn.preprocessing import StandardScaler\n",
    "import pandas as pd\n",
    "scaler = StandardScaler()\n",
    "print(dataset.describe())\n",
    "Features=dataset[['finishedsqft','totalrooms','zindexvalue']]\n",
    "Features= scaler.fit_transform(Features);\n",
    "print(pd.DataFrame(Features).describe())\n"
   ]
  },
  {
   "cell_type": "code",
   "execution_count": 157,
   "metadata": {},
   "outputs": [
    {
     "name": "stdout",
     "output_type": "stream",
     "text": [
      "<class 'scipy.sparse.csr.csr_matrix'>\n",
      "(11330, 4349)\n",
      "RangeIndex(start=0, stop=4349, step=1)\n"
     ]
    }
   ],
   "source": [
    "from sklearn.feature_extraction.text import TfidfVectorizer\n",
    "vec=TfidfVectorizer()\n",
    "text_tfidf=vec.fit_transform(dataset['address'])\n",
    "print(type(text_tfidf))\n",
    "print(text_tfidf.toarray().shape)\n",
    "print(pd.DataFrame(text_tfidf.toarray()).columns)\n",
    "#print(pd.DataFrame(text_tfidf.toarray()).head())\n",
    "#print(vec.vocabulary_)"
   ]
  },
  {
   "cell_type": "code",
   "execution_count": 158,
   "metadata": {},
   "outputs": [
    {
     "data": {
      "text/plain": [
       "lastsoldprice    1.000000\n",
       "zestimate        0.876939\n",
       "finishedsqft     0.647208\n",
       "bathrooms        0.536880\n",
       "zindexvalue      0.460429\n",
       "bedrooms         0.395478\n",
       "latitude         0.283107\n",
       "totalrooms       0.093527\n",
       "zipcode          0.018839\n",
       "zpid            -0.038444\n",
       "longitude       -0.052595\n",
       "Unnamed: 0      -0.134305\n",
       "yearbuilt       -0.189055\n",
       "Name: lastsoldprice, dtype: float64"
      ]
     },
     "execution_count": 158,
     "metadata": {},
     "output_type": "execute_result"
    }
   ],
   "source": [
    "# In order to find the relation between last sold price and all other columns in dataset we have find corr\n",
    "corr=dataset.corr()\n",
    "corr['lastsoldprice'].sort_values(ascending=False)"
   ]
  },
  {
   "cell_type": "code",
   "execution_count": 159,
   "metadata": {},
   "outputs": [],
   "source": [
    "# since use code has 10 variables that needs to be encoded we have done enocdding using one-hot encoding\n",
    "# we don't want our model ti get influenced by zillow estimate , so we are dropinng zestimate\n",
    "import pandas as pd\n",
    "X=dataset.drop(['lastsoldprice','Unnamed: 0','address','info','zestimate','z_address','lastsolddate','latitude','longitude','neighborhood','yearbuilt','zipcode','zpid'],axis=1)\n",
    "X_new=pd.get_dummies(X,['usecode'])\n",
    "y=dataset['lastsoldprice']"
   ]
  },
  {
   "cell_type": "code",
   "execution_count": 160,
   "metadata": {},
   "outputs": [
    {
     "data": {
      "text/html": [
       "<div>\n",
       "<style scoped>\n",
       "    .dataframe tbody tr th:only-of-type {\n",
       "        vertical-align: middle;\n",
       "    }\n",
       "\n",
       "    .dataframe tbody tr th {\n",
       "        vertical-align: top;\n",
       "    }\n",
       "\n",
       "    .dataframe thead th {\n",
       "        text-align: right;\n",
       "    }\n",
       "</style>\n",
       "<table border=\"1\" class=\"dataframe\">\n",
       "  <thead>\n",
       "    <tr style=\"text-align: right;\">\n",
       "      <th></th>\n",
       "      <th>bathrooms</th>\n",
       "      <th>bedrooms</th>\n",
       "      <th>finishedsqft</th>\n",
       "      <th>totalrooms</th>\n",
       "      <th>zindexvalue</th>\n",
       "      <th>usecode_Apartment</th>\n",
       "      <th>usecode_Condominium</th>\n",
       "      <th>usecode_Cooperative</th>\n",
       "      <th>usecode_Duplex</th>\n",
       "      <th>usecode_Miscellaneous</th>\n",
       "      <th>usecode_Mobile</th>\n",
       "      <th>usecode_MultiFamily2To4</th>\n",
       "      <th>usecode_MultiFamily5Plus</th>\n",
       "      <th>usecode_SingleFamily</th>\n",
       "      <th>usecode_Townhouse</th>\n",
       "    </tr>\n",
       "  </thead>\n",
       "  <tbody>\n",
       "    <tr>\n",
       "      <th>0</th>\n",
       "      <td>2.0</td>\n",
       "      <td>2.0</td>\n",
       "      <td>1043.0</td>\n",
       "      <td>4.0</td>\n",
       "      <td>975700</td>\n",
       "      <td>0</td>\n",
       "      <td>1</td>\n",
       "      <td>0</td>\n",
       "      <td>0</td>\n",
       "      <td>0</td>\n",
       "      <td>0</td>\n",
       "      <td>0</td>\n",
       "      <td>0</td>\n",
       "      <td>0</td>\n",
       "      <td>0</td>\n",
       "    </tr>\n",
       "    <tr>\n",
       "      <th>1</th>\n",
       "      <td>1.0</td>\n",
       "      <td>1.0</td>\n",
       "      <td>903.0</td>\n",
       "      <td>3.0</td>\n",
       "      <td>975700</td>\n",
       "      <td>0</td>\n",
       "      <td>1</td>\n",
       "      <td>0</td>\n",
       "      <td>0</td>\n",
       "      <td>0</td>\n",
       "      <td>0</td>\n",
       "      <td>0</td>\n",
       "      <td>0</td>\n",
       "      <td>0</td>\n",
       "      <td>0</td>\n",
       "    </tr>\n",
       "    <tr>\n",
       "      <th>2</th>\n",
       "      <td>4.0</td>\n",
       "      <td>3.0</td>\n",
       "      <td>1425.0</td>\n",
       "      <td>6.0</td>\n",
       "      <td>1277600</td>\n",
       "      <td>0</td>\n",
       "      <td>1</td>\n",
       "      <td>0</td>\n",
       "      <td>0</td>\n",
       "      <td>0</td>\n",
       "      <td>0</td>\n",
       "      <td>0</td>\n",
       "      <td>0</td>\n",
       "      <td>0</td>\n",
       "      <td>0</td>\n",
       "    </tr>\n",
       "    <tr>\n",
       "      <th>3</th>\n",
       "      <td>3.0</td>\n",
       "      <td>3.0</td>\n",
       "      <td>2231.0</td>\n",
       "      <td>10.0</td>\n",
       "      <td>1277600</td>\n",
       "      <td>0</td>\n",
       "      <td>0</td>\n",
       "      <td>0</td>\n",
       "      <td>0</td>\n",
       "      <td>0</td>\n",
       "      <td>0</td>\n",
       "      <td>0</td>\n",
       "      <td>0</td>\n",
       "      <td>1</td>\n",
       "      <td>0</td>\n",
       "    </tr>\n",
       "    <tr>\n",
       "      <th>4</th>\n",
       "      <td>3.0</td>\n",
       "      <td>3.0</td>\n",
       "      <td>1300.0</td>\n",
       "      <td>4.0</td>\n",
       "      <td>1248000</td>\n",
       "      <td>0</td>\n",
       "      <td>0</td>\n",
       "      <td>0</td>\n",
       "      <td>0</td>\n",
       "      <td>0</td>\n",
       "      <td>0</td>\n",
       "      <td>0</td>\n",
       "      <td>0</td>\n",
       "      <td>1</td>\n",
       "      <td>0</td>\n",
       "    </tr>\n",
       "  </tbody>\n",
       "</table>\n",
       "</div>"
      ],
      "text/plain": [
       "   bathrooms  bedrooms  finishedsqft  totalrooms  zindexvalue  \\\n",
       "0        2.0       2.0        1043.0         4.0       975700   \n",
       "1        1.0       1.0         903.0         3.0       975700   \n",
       "2        4.0       3.0        1425.0         6.0      1277600   \n",
       "3        3.0       3.0        2231.0        10.0      1277600   \n",
       "4        3.0       3.0        1300.0         4.0      1248000   \n",
       "\n",
       "   usecode_Apartment  usecode_Condominium  usecode_Cooperative  \\\n",
       "0                  0                    1                    0   \n",
       "1                  0                    1                    0   \n",
       "2                  0                    1                    0   \n",
       "3                  0                    0                    0   \n",
       "4                  0                    0                    0   \n",
       "\n",
       "   usecode_Duplex  usecode_Miscellaneous  usecode_Mobile  \\\n",
       "0               0                      0               0   \n",
       "1               0                      0               0   \n",
       "2               0                      0               0   \n",
       "3               0                      0               0   \n",
       "4               0                      0               0   \n",
       "\n",
       "   usecode_MultiFamily2To4  usecode_MultiFamily5Plus  usecode_SingleFamily  \\\n",
       "0                        0                         0                     0   \n",
       "1                        0                         0                     0   \n",
       "2                        0                         0                     0   \n",
       "3                        0                         0                     1   \n",
       "4                        0                         0                     1   \n",
       "\n",
       "   usecode_Townhouse  \n",
       "0                  0  \n",
       "1                  0  \n",
       "2                  0  \n",
       "3                  0  \n",
       "4                  0  "
      ]
     },
     "execution_count": 160,
     "metadata": {},
     "output_type": "execute_result"
    }
   ],
   "source": [
    "''' Since these features have high correlation and are suitable for the model to predict the price of new houses, I have dropped all other columns from datset before training a model''' \n",
    "X_new.head()"
   ]
  },
  {
   "cell_type": "markdown",
   "metadata": {},
   "source": [
    "## 3. Method 1: Multiple Linear Regression (15 points)"
   ]
  },
  {
   "cell_type": "code",
   "execution_count": 161,
   "metadata": {},
   "outputs": [],
   "source": [
    "import statsmodels.formula.api as sm\n",
    "def backwardElimination(x, sl):\n",
    "    \n",
    "    numVars = len(x[0])\n",
    "    for i in range(0, numVars):\n",
    "        regressor_OLS = sm.OLS(y, x).fit()\n",
    "        maxVar = max(regressor_OLS.pvalues)\n",
    "        if maxVar > sl:\n",
    "            for j in range(0, numVars - i):\n",
    "                if (regressor_OLS.pvalues[j] == maxVar):\n",
    "                     x = np.delete(x, j, 1)\n",
    "    regressor_OLS.summary()\n",
    "    return x"
   ]
  },
  {
   "cell_type": "code",
   "execution_count": 162,
   "metadata": {},
   "outputs": [
    {
     "name": "stdout",
     "output_type": "stream",
     "text": [
      "(11330, 16)\n",
      "(11330, 9)\n",
      "[[1. 2. 2. ... 0. 0. 0.]\n",
      " [1. 1. 1. ... 0. 0. 0.]\n",
      " [1. 4. 3. ... 0. 0. 0.]\n",
      " ...\n",
      " [1. 1. 2. ... 0. 0. 1.]\n",
      " [1. 1. 2. ... 0. 0. 1.]\n",
      " [1. 2. 3. ... 0. 0. 1.]]\n"
     ]
    }
   ],
   "source": [
    "import statsmodels.api as sm\n",
    "import numpy as np\n",
    "SL=0.05\n",
    "#X_new=X.drop(['lastsoldprice'],axis=1)\n",
    "#print(X_new.shape)\n",
    "X = np.append(arr = np.ones((11330,1)), values = X_new, axis = 1)\n",
    "print(X.shape)\n",
    "\n",
    "X_Modeled = backwardElimination(X, SL)\n",
    "print(X_Modeled.shape)\n",
    "print(X_Modeled)\n"
   ]
  },
  {
   "cell_type": "code",
   "execution_count": 163,
   "metadata": {},
   "outputs": [],
   "source": [
    "from sklearn.model_selection import train_test_split\n",
    "X_train, X_test, y_train, y_test = train_test_split(X_Modeled, \n",
    "                                                    y, test_size = 0.3, random_state = 0)"
   ]
  },
  {
   "cell_type": "code",
   "execution_count": 164,
   "metadata": {},
   "outputs": [
    {
     "name": "stdout",
     "output_type": "stream",
     "text": [
      "Multiple Linear Regression R squared: 0.5304\n",
      "Multiple Linear Regression RMSE: 637826.2514\n"
     ]
    }
   ],
   "source": [
    "from sklearn.linear_model import LinearRegression\n",
    "import numpy as np\n",
    "reg=LinearRegression()\n",
    "\n",
    "reg.fit(X_train,y_train)\n",
    "print('Multiple Linear Regression R squared: %.4f'%reg.score(X_test, y_test))\n",
    "y_pred=reg.predict(X_test)\n",
    "#print(y_pred)\n",
    "from sklearn.metrics import mean_squared_error\n",
    "mse=mean_squared_error(y_pred,y_test)\n",
    "rmse=np.sqrt(mse)\n",
    "print('Multiple Linear Regression RMSE: %.4f'%rmse)"
   ]
  },
  {
   "cell_type": "code",
   "execution_count": 165,
   "metadata": {},
   "outputs": [
    {
     "name": "stdout",
     "output_type": "stream",
     "text": [
      "[ 0.00000000e+00  2.35571093e+05 -1.17640561e+05  5.94403247e+02\n",
      "  4.51122127e-01  1.18319996e+05 -7.49982274e+05 -2.44140085e+05\n",
      "  1.46987485e+05]\n"
     ]
    }
   ],
   "source": [
    "print(reg.coef_)"
   ]
  },
  {
   "cell_type": "code",
   "execution_count": 166,
   "metadata": {},
   "outputs": [
    {
     "name": "stdout",
     "output_type": "stream",
     "text": [
      "{'bathrooms': 0.0, 'bedrooms': 235571.09297913968, 'finishedsqft': -117640.56057189814, 'totalrooms': 594.403247346476, 'zindexvalue': 0.45112212710997424, 'usecode_Apartment': 118319.99554625533, 'usecode_Condominium': -749982.2735419082, 'usecode_Cooperative': -244140.08485362338, 'usecode_Duplex': 146987.4849078084}\n"
     ]
    }
   ],
   "source": [
    "print(dict(zip(X_new.columns,reg.coef_)))"
   ]
  },
  {
   "cell_type": "markdown",
   "metadata": {},
   "source": [
    "## 4. Method 2: Least Absolute Shrinkage and Selection Operator(Lasso) (5 points bonus)"
   ]
  },
  {
   "cell_type": "code",
   "execution_count": 167,
   "metadata": {},
   "outputs": [],
   "source": [
    "from sklearn.model_selection import train_test_split\n",
    "X_train,X_test,y_train,y_test=train_test_split(X_new,y,test_size=0.3,random_state=0)"
   ]
  },
  {
   "cell_type": "code",
   "execution_count": 168,
   "metadata": {},
   "outputs": [
    {
     "name": "stdout",
     "output_type": "stream",
     "text": [
      "Lasso R squared: 0.5294\n"
     ]
    }
   ],
   "source": [
    "from sklearn.linear_model import Lasso\n",
    "lasso=Lasso(alpha=0.1,max_iter=1e6)\n",
    "lasso.fit(X_train,y_train)\n",
    "print('Lasso R squared: %.4f'%lasso.score(X_test, y_test))"
   ]
  },
  {
   "cell_type": "code",
   "execution_count": 169,
   "metadata": {},
   "outputs": [
    {
     "name": "stdout",
     "output_type": "stream",
     "text": [
      "Lasso RMSE: 638524.6192\n"
     ]
    }
   ],
   "source": [
    "y_pred=lasso.predict(X_test)\n",
    "#print(y_pred)\n",
    "from sklearn.metrics import mean_squared_error\n",
    "mse=mean_squared_error(y_pred,y_test)\n",
    "rmse=np.sqrt(mse)\n",
    "print('Lasso RMSE: %.4f'%rmse)"
   ]
  },
  {
   "cell_type": "code",
   "execution_count": 170,
   "metadata": {
    "scrolled": true
   },
   "outputs": [
    {
     "name": "stdout",
     "output_type": "stream",
     "text": [
      "[ 2.35399916e+05 -1.18643836e+05  5.92739621e+02  1.43616453e+03\n",
      "  4.50956706e-01  0.00000000e+00  6.61073822e+04 -4.02687399e+05\n",
      " -8.06285505e+05  5.51267698e+04  4.53783549e+05 -2.98805403e+05\n",
      " -2.55769843e+05  9.41402632e+04 -8.74593569e+04]\n"
     ]
    }
   ],
   "source": [
    "print(lasso.coef_)"
   ]
  },
  {
   "cell_type": "code",
   "execution_count": 171,
   "metadata": {},
   "outputs": [
    {
     "name": "stdout",
     "output_type": "stream",
     "text": [
      "{'bathrooms': 235399.9160681771, 'bedrooms': -118643.83601647888, 'finishedsqft': 592.7396212827373, 'totalrooms': 1436.1645301972285, 'zindexvalue': 0.4509567056284082, 'usecode_Apartment': 0.0, 'usecode_Condominium': 66107.38222160892, 'usecode_Cooperative': -402687.3993893953, 'usecode_Duplex': -806285.505219038, 'usecode_Miscellaneous': 55126.76976656638, 'usecode_Mobile': 453783.54855204176, 'usecode_MultiFamily2To4': -298805.4025557608, 'usecode_MultiFamily5Plus': -255769.84340550101, 'usecode_SingleFamily': 94140.26317772268, 'usecode_Townhouse': -87459.35687638387}\n"
     ]
    }
   ],
   "source": [
    "print(dict(zip(X_new.columns,lasso.coef_)))"
   ]
  },
  {
   "cell_type": "markdown",
   "metadata": {},
   "source": [
    "## 5. Method 3: Decision Tree (20 points)"
   ]
  },
  {
   "cell_type": "code",
   "execution_count": 172,
   "metadata": {},
   "outputs": [],
   "source": [
    "from sklearn.model_selection import train_test_split\n",
    "X_train,X_test,y_train,y_test=train_test_split(X_new,y,test_size=0.3,random_state=0)"
   ]
  },
  {
   "cell_type": "code",
   "execution_count": 173,
   "metadata": {},
   "outputs": [
    {
     "name": "stdout",
     "output_type": "stream",
     "text": [
      "Decision Tree Regression R squared: 0.3334\n"
     ]
    }
   ],
   "source": [
    "from sklearn.tree import DecisionTreeRegressor\n",
    "reg=DecisionTreeRegressor(random_state=0)\n",
    "reg.fit(X_train,y_train)\n",
    "print('Decision Tree Regression R squared: %.4f' % reg.score(X_test,y_test))\n",
    "\n"
   ]
  },
  {
   "cell_type": "code",
   "execution_count": 174,
   "metadata": {
    "scrolled": true
   },
   "outputs": [
    {
     "name": "stdout",
     "output_type": "stream",
     "text": [
      "[1580000. 1625000.  680000. ... 2750000. 3825000.  825000.]\n",
      "Decision Tree Regression RMSE: 759937.3233\n"
     ]
    }
   ],
   "source": [
    "from sklearn.metrics import mean_squared_error\n",
    "import numpy as np\n",
    "y_pred=reg.predict(X_test)\n",
    "print(y_pred)\n",
    "mse=mean_squared_error(y_pred,y_test)\n",
    "rmse=np.sqrt(mse)\n",
    "print('Decision Tree Regression RMSE: %.4f'%rmse)"
   ]
  },
  {
   "cell_type": "code",
   "execution_count": 175,
   "metadata": {},
   "outputs": [
    {
     "name": "stdout",
     "output_type": "stream",
     "text": [
      "[7.28664951e-02 3.51858286e-02 5.83136165e-01 5.96319026e-02\n",
      " 2.10852902e-01 4.24634532e-05 4.63816805e-03 0.00000000e+00\n",
      " 8.01543453e-04 2.21999857e-04 1.76158639e-05 6.41696561e-04\n",
      " 0.00000000e+00 3.17205452e-02 2.42674734e-04]\n"
     ]
    }
   ],
   "source": [
    "important_features=reg.feature_importances_\n",
    "print(important_features)"
   ]
  },
  {
   "cell_type": "code",
   "execution_count": 176,
   "metadata": {},
   "outputs": [
    {
     "name": "stdout",
     "output_type": "stream",
     "text": [
      "{'bathrooms': 0.07286649507687067, 'bedrooms': 0.035185828567763554, 'finishedsqft': 0.5831361648225822, 'totalrooms': 0.05963190255266725, 'zindexvalue': 0.21085290182223748, 'usecode_Apartment': 4.2463453237975224e-05, 'usecode_Condominium': 0.004638168045278753, 'usecode_Cooperative': 0.0, 'usecode_Duplex': 0.0008015434529566541, 'usecode_Miscellaneous': 0.00022199985740104192, 'usecode_Mobile': 1.761586388361363e-05, 'usecode_MultiFamily2To4': 0.000641696561250549, 'usecode_MultiFamily5Plus': 0.0, 'usecode_SingleFamily': 0.03172054518940716, 'usecode_Townhouse': 0.00024267473446281502}\n"
     ]
    }
   ],
   "source": [
    "print(dict(zip(X_new.columns,important_features)))"
   ]
  },
  {
   "cell_type": "markdown",
   "metadata": {},
   "source": [
    "## 6. Method 4: Random Forest (20 points)"
   ]
  },
  {
   "cell_type": "code",
   "execution_count": 177,
   "metadata": {},
   "outputs": [],
   "source": [
    "from sklearn.model_selection import train_test_split\n",
    "X_train,X_test,y_train,y_test=train_test_split(X_new,y,test_size=0.3,random_state=0)"
   ]
  },
  {
   "cell_type": "code",
   "execution_count": 178,
   "metadata": {},
   "outputs": [
    {
     "name": "stdout",
     "output_type": "stream",
     "text": [
      "Random Forest Regression R squared: 0.6559\n"
     ]
    }
   ],
   "source": [
    "from sklearn.ensemble import RandomForestRegressor\n",
    "reg=RandomForestRegressor(n_estimators = 1000,random_state = 0)\n",
    "reg.fit(X_train,y_train)\n",
    "print('Random Forest Regression R squared: %.4f' % reg.score(X_test,y_test))"
   ]
  },
  {
   "cell_type": "code",
   "execution_count": 179,
   "metadata": {},
   "outputs": [
    {
     "name": "stdout",
     "output_type": "stream",
     "text": [
      "[1813043.         1481390.          749379.28896104 ... 1835478.3\n",
      " 3545264.5         742260.1       ]\n",
      "Random Forest Regression RMSE: 545972.1760\n"
     ]
    }
   ],
   "source": [
    "from sklearn.metrics import mean_squared_error\n",
    "import numpy as np\n",
    "y_pred=reg.predict(X_test)\n",
    "print(y_pred)\n",
    "mse=mean_squared_error(y_pred,y_test)\n",
    "rmse=np.sqrt(mse)\n",
    "print('Random Forest Regression RMSE: %.4f'%rmse)"
   ]
  },
  {
   "cell_type": "code",
   "execution_count": 180,
   "metadata": {},
   "outputs": [
    {
     "name": "stdout",
     "output_type": "stream",
     "text": [
      "[7.24769262e-02 3.25760598e-02 5.76176421e-01 6.41157706e-02\n",
      " 2.12797613e-01 2.45598706e-05 7.02090678e-03 1.41943987e-05\n",
      " 1.45677930e-03 2.28236658e-04 2.40614514e-05 2.46192994e-03\n",
      " 6.31897329e-06 3.04453433e-02 1.74878745e-04]\n"
     ]
    }
   ],
   "source": [
    "important_features=reg.feature_importances_\n",
    "print(important_features)"
   ]
  },
  {
   "cell_type": "code",
   "execution_count": 181,
   "metadata": {},
   "outputs": [
    {
     "name": "stdout",
     "output_type": "stream",
     "text": [
      "{'bathrooms': 0.07247692624244702, 'bedrooms': 0.03257605981706971, 'finishedsqft': 0.5761764211230682, 'totalrooms': 0.06411577062959323, 'zindexvalue': 0.21279761272349626, 'usecode_Apartment': 2.4559870595640036e-05, 'usecode_Condominium': 0.007020906777563412, 'usecode_Cooperative': 1.4194398674119848e-05, 'usecode_Duplex': 0.0014567793030302737, 'usecode_Miscellaneous': 0.00022823665817676368, 'usecode_Mobile': 2.406145141550346e-05, 'usecode_MultiFamily2To4': 0.002461929940797956, 'usecode_MultiFamily5Plus': 6.31897329200874e-06, 'usecode_SingleFamily': 0.030445343346036293, 'usecode_Townhouse': 0.0001748787447435097}\n"
     ]
    }
   ],
   "source": [
    "print(dict(zip(X_new.columns,important_features)))"
   ]
  },
  {
   "cell_type": "markdown",
   "metadata": {},
   "source": [
    "## 7. Test Data Set Prediction Results Comparison Table of Method 1, Method 2, Method 3 and Method 4 (15 points)\n",
    "* Please fill in your results to the following table"
   ]
  },
  {
   "cell_type": "markdown",
   "metadata": {},
   "source": [
    "<table>\n",
    "<thead>\n",
    "    <tr>\n",
    "    <th colspan=\"4\">Predict The Bay Area’s Home Prices</th>\n",
    "    </tr>\n",
    "    <tr>\n",
    "    <th> </th>\n",
    "    <th>Multiple Linear Regression</th>\n",
    "    <th>Lasso</th>\n",
    "    <th>Decision Tree</th>\n",
    "    <th>Random Forest</th>\n",
    "    </tr>\n",
    "</thead>\n",
    "<tbody>\n",
    "    <tr>\n",
    "        <th>R Squared Score</th>\n",
    "        <td> 0.5304 </td>\n",
    "        <td> 0.5294 </td>\n",
    "        <td> 0.3334</td>\n",
    "        <td> 0.6559 </td>\n",
    "    </tr>\n",
    "     <tr>\n",
    "         <th>RMSE</th>\n",
    "        <td> 637826.2514 </td>\n",
    "        <td> 638524.6192 </td>\n",
    "        <td> 759937.3233 </td>\n",
    "        <td> 545972.1760 </td>\n",
    "    </tr>\n",
    "</tbody>\n",
    "</table>"
   ]
  },
  {
   "cell_type": "code",
   "execution_count": null,
   "metadata": {
    "collapsed": true
   },
   "outputs": [],
   "source": []
  }
 ],
 "metadata": {
  "kernelspec": {
   "display_name": "Python 3",
   "language": "python",
   "name": "python3"
  },
  "language_info": {
   "codemirror_mode": {
    "name": "ipython",
    "version": 3
   },
   "file_extension": ".py",
   "mimetype": "text/x-python",
   "name": "python",
   "nbconvert_exporter": "python",
   "pygments_lexer": "ipython3",
   "version": "3.7.7"
  }
 },
 "nbformat": 4,
 "nbformat_minor": 2
}
